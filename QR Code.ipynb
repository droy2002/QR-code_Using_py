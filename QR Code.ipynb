{
 "cells": [
  {
   "cell_type": "code",
   "execution_count": 1,
   "id": "e64166fd",
   "metadata": {},
   "outputs": [],
   "source": [
    "#firstly install qrcode python module\n",
    "# pip install qrcode\n",
    "#after that we import this module"
   ]
  },
  {
   "cell_type": "code",
   "execution_count": 3,
   "id": "3ca45679",
   "metadata": {},
   "outputs": [],
   "source": [
    "import qrcode as qr"
   ]
  },
  {
   "cell_type": "code",
   "execution_count": null,
   "id": "a6c265af",
   "metadata": {},
   "outputs": [],
   "source": [
    "img = qr.make(\"https://spotify.link/jmFc3JakwDb\" )\n",
    "img.save(\" Baby I'm Yours\")"
   ]
  }
 ],
 "metadata": {
  "kernelspec": {
   "display_name": "Python 3 (ipykernel)",
   "language": "python",
   "name": "python3"
  },
  "language_info": {
   "codemirror_mode": {
    "name": "ipython",
    "version": 3
   },
   "file_extension": ".py",
   "mimetype": "text/x-python",
   "name": "python",
   "nbconvert_exporter": "python",
   "pygments_lexer": "ipython3",
   "version": "3.9.12"
  }
 },
 "nbformat": 4,
 "nbformat_minor": 5
}
